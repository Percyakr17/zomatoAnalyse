{
  "nbformat": 4,
  "nbformat_minor": 0,
  "metadata": {
    "colab": {
      "provenance": []
    },
    "kernelspec": {
      "name": "python3",
      "display_name": "Python 3"
    },
    "language_info": {
      "name": "python"
    }
  },
  "cells": [
    {
      "cell_type": "code",
      "source": [
        "import pandas as pd\n",
        "import matplotlib.pyplot as plt\n",
        "import seaborn as sns\n",
        "\n"
      ],
      "metadata": {
        "id": "RX5gOqd_8Ijy"
      },
      "execution_count": 23,
      "outputs": []
    },
    {
      "cell_type": "code",
      "source": [
        "file_path = \"zomato.csv\"\n",
        "df = pd.read_csv(file_path, encoding='latin-1')\n",
        "\n",
        "print(\"Dataset Info:\") # Display basic info\n",
        "df.info()\n",
        "\n",
        "print(\"\\nFirst 5 rows:\")  # Diplay first five row\n",
        "print(df.head())"
      ],
      "metadata": {
        "colab": {
          "base_uri": "https://localhost:8080/"
        },
        "id": "gOKIpEANCFpt",
        "outputId": "de5abfd0-0773-4820-eaa4-b3c6a30bd1ad"
      },
      "execution_count": 33,
      "outputs": [
        {
          "output_type": "stream",
          "name": "stdout",
          "text": [
            "Dataset Info:\n",
            "<class 'pandas.core.frame.DataFrame'>\n",
            "RangeIndex: 9551 entries, 0 to 9550\n",
            "Data columns (total 21 columns):\n",
            " #   Column                Non-Null Count  Dtype  \n",
            "---  ------                --------------  -----  \n",
            " 0   Restaurant ID         9551 non-null   int64  \n",
            " 1   Restaurant Name       9551 non-null   object \n",
            " 2   Country Code          9551 non-null   int64  \n",
            " 3   City                  9551 non-null   object \n",
            " 4   Address               9551 non-null   object \n",
            " 5   Locality              9551 non-null   object \n",
            " 6   Locality Verbose      9551 non-null   object \n",
            " 7   Longitude             9551 non-null   float64\n",
            " 8   Latitude              9551 non-null   float64\n",
            " 9   Cuisines              9542 non-null   object \n",
            " 10  Average Cost for two  9551 non-null   int64  \n",
            " 11  Currency              9551 non-null   object \n",
            " 12  Has Table booking     9551 non-null   object \n",
            " 13  Has Online delivery   9551 non-null   object \n",
            " 14  Is delivering now     9551 non-null   object \n",
            " 15  Switch to order menu  9551 non-null   object \n",
            " 16  Price range           9551 non-null   int64  \n",
            " 17  Aggregate rating      9551 non-null   float64\n",
            " 18  Rating color          9551 non-null   object \n",
            " 19  Rating text           9551 non-null   object \n",
            " 20  Votes                 9551 non-null   int64  \n",
            "dtypes: float64(3), int64(5), object(13)\n",
            "memory usage: 1.5+ MB\n",
            "\n",
            "First 5 rows:\n",
            "   Restaurant ID         Restaurant Name  Country Code              City  \\\n",
            "0        6317637        Le Petit Souffle           162       Makati City   \n",
            "1        6304287        Izakaya Kikufuji           162       Makati City   \n",
            "2        6300002  Heat - Edsa Shangri-La           162  Mandaluyong City   \n",
            "3        6318506                    Ooma           162  Mandaluyong City   \n",
            "4        6314302             Sambo Kojin           162  Mandaluyong City   \n",
            "\n",
            "                                             Address  \\\n",
            "0  Third Floor, Century City Mall, Kalayaan Avenu...   \n",
            "1  Little Tokyo, 2277 Chino Roces Avenue, Legaspi...   \n",
            "2  Edsa Shangri-La, 1 Garden Way, Ortigas, Mandal...   \n",
            "3  Third Floor, Mega Fashion Hall, SM Megamall, O...   \n",
            "4  Third Floor, Mega Atrium, SM Megamall, Ortigas...   \n",
            "\n",
            "                                     Locality  \\\n",
            "0   Century City Mall, Poblacion, Makati City   \n",
            "1  Little Tokyo, Legaspi Village, Makati City   \n",
            "2  Edsa Shangri-La, Ortigas, Mandaluyong City   \n",
            "3      SM Megamall, Ortigas, Mandaluyong City   \n",
            "4      SM Megamall, Ortigas, Mandaluyong City   \n",
            "\n",
            "                                    Locality Verbose   Longitude   Latitude  \\\n",
            "0  Century City Mall, Poblacion, Makati City, Mak...  121.027535  14.565443   \n",
            "1  Little Tokyo, Legaspi Village, Makati City, Ma...  121.014101  14.553708   \n",
            "2  Edsa Shangri-La, Ortigas, Mandaluyong City, Ma...  121.056831  14.581404   \n",
            "3  SM Megamall, Ortigas, Mandaluyong City, Mandal...  121.056475  14.585318   \n",
            "4  SM Megamall, Ortigas, Mandaluyong City, Mandal...  121.057508  14.584450   \n",
            "\n",
            "                           Cuisines  ...          Currency Has Table booking  \\\n",
            "0        French, Japanese, Desserts  ...  Botswana Pula(P)               Yes   \n",
            "1                          Japanese  ...  Botswana Pula(P)               Yes   \n",
            "2  Seafood, Asian, Filipino, Indian  ...  Botswana Pula(P)               Yes   \n",
            "3                   Japanese, Sushi  ...  Botswana Pula(P)                No   \n",
            "4                  Japanese, Korean  ...  Botswana Pula(P)               Yes   \n",
            "\n",
            "  Has Online delivery Is delivering now Switch to order menu Price range  \\\n",
            "0                  No                No                   No           3   \n",
            "1                  No                No                   No           3   \n",
            "2                  No                No                   No           4   \n",
            "3                  No                No                   No           4   \n",
            "4                  No                No                   No           4   \n",
            "\n",
            "   Aggregate rating  Rating color Rating text Votes  \n",
            "0               4.8    Dark Green   Excellent   314  \n",
            "1               4.5    Dark Green   Excellent   591  \n",
            "2               4.4         Green   Very Good   270  \n",
            "3               4.9    Dark Green   Excellent   365  \n",
            "4               4.8    Dark Green   Excellent   229  \n",
            "\n",
            "[5 rows x 21 columns]\n"
          ]
        }
      ]
    },
    {
      "cell_type": "code",
      "source": [
        "df = df.dropna() # handling null values"
      ],
      "metadata": {
        "id": "bidyR7KfE0yJ"
      },
      "execution_count": 34,
      "outputs": []
    },
    {
      "cell_type": "code",
      "source": [
        "#Renaming columns for better readability\n",
        "df.columns = df.columns.str.strip().str.lower().str.replace(\" \", \"_\")\n"
      ],
      "metadata": {
        "id": "Dmgy3-URFB_F"
      },
      "execution_count": 35,
      "outputs": []
    },
    {
      "cell_type": "code",
      "source": [
        "df = df.drop_duplicates() #dropping Duplicates"
      ],
      "metadata": {
        "id": "FbGVHVYTFEAO"
      },
      "execution_count": 36,
      "outputs": []
    },
    {
      "cell_type": "code",
      "source": [
        "print(df)    # checking progress"
      ],
      "metadata": {
        "colab": {
          "base_uri": "https://localhost:8080/"
        },
        "id": "GIdJwkYBFFvM",
        "outputId": "01f641ed-70c6-4fe8-cbb6-5b56ae71ce8f"
      },
      "execution_count": 37,
      "outputs": [
        {
          "output_type": "stream",
          "name": "stdout",
          "text": [
            "      restaurant_id           restaurant_name  country_code              city  \\\n",
            "0           6317637          Le Petit Souffle           162       Makati City   \n",
            "1           6304287          Izakaya Kikufuji           162       Makati City   \n",
            "2           6300002    Heat - Edsa Shangri-La           162  Mandaluyong City   \n",
            "3           6318506                      Ooma           162  Mandaluyong City   \n",
            "4           6314302               Sambo Kojin           162  Mandaluyong City   \n",
            "...             ...                       ...           ...               ...   \n",
            "9546        5915730              NamlÛ± Gurme           208         ÛÁstanbul   \n",
            "9547        5908749             Ceviz AÛôacÛ±           208         ÛÁstanbul   \n",
            "9548        5915807                     Huqqa           208         ÛÁstanbul   \n",
            "9549        5916112              Aôôk Kahve           208         ÛÁstanbul   \n",
            "9550        5927402  Walter's Coffee Roastery           208         ÛÁstanbul   \n",
            "\n",
            "                                                address  \\\n",
            "0     Third Floor, Century City Mall, Kalayaan Avenu...   \n",
            "1     Little Tokyo, 2277 Chino Roces Avenue, Legaspi...   \n",
            "2     Edsa Shangri-La, 1 Garden Way, Ortigas, Mandal...   \n",
            "3     Third Floor, Mega Fashion Hall, SM Megamall, O...   \n",
            "4     Third Floor, Mega Atrium, SM Megamall, Ortigas...   \n",
            "...                                                 ...   \n",
            "9546  Kemankeô Karamustafa Paôa Mahallesi, RÛ±htÛ±...   \n",
            "9547  Koôuyolu Mahallesi, Muhittin íìstí_ndaÛô Cadd...   \n",
            "9548  Kuruí_eôme Mahallesi, Muallim Naci Caddesi, N...   \n",
            "9549  Kuruí_eôme Mahallesi, Muallim Naci Caddesi, N...   \n",
            "9550  CafeaÛôa Mahallesi, BademaltÛ± Sokak, No 21/B,...   \n",
            "\n",
            "                                        locality  \\\n",
            "0      Century City Mall, Poblacion, Makati City   \n",
            "1     Little Tokyo, Legaspi Village, Makati City   \n",
            "2     Edsa Shangri-La, Ortigas, Mandaluyong City   \n",
            "3         SM Megamall, Ortigas, Mandaluyong City   \n",
            "4         SM Megamall, Ortigas, Mandaluyong City   \n",
            "...                                          ...   \n",
            "9546                                    Karakí_y   \n",
            "9547                                   Koôuyolu   \n",
            "9548                                 Kuruí_eôme   \n",
            "9549                                 Kuruí_eôme   \n",
            "9550                                        Moda   \n",
            "\n",
            "                                       locality_verbose   longitude  \\\n",
            "0     Century City Mall, Poblacion, Makati City, Mak...  121.027535   \n",
            "1     Little Tokyo, Legaspi Village, Makati City, Ma...  121.014101   \n",
            "2     Edsa Shangri-La, Ortigas, Mandaluyong City, Ma...  121.056831   \n",
            "3     SM Megamall, Ortigas, Mandaluyong City, Mandal...  121.056475   \n",
            "4     SM Megamall, Ortigas, Mandaluyong City, Mandal...  121.057508   \n",
            "...                                                 ...         ...   \n",
            "9546                                Karakí_y, ÛÁstanbul   28.977392   \n",
            "9547                               Koôuyolu, ÛÁstanbul   29.041297   \n",
            "9548                             Kuruí_eôme, ÛÁstanbul   29.034640   \n",
            "9549                             Kuruí_eôme, ÛÁstanbul   29.036019   \n",
            "9550                                    Moda, ÛÁstanbul   29.026016   \n",
            "\n",
            "       latitude                          cuisines  ...          currency  \\\n",
            "0     14.565443        French, Japanese, Desserts  ...  Botswana Pula(P)   \n",
            "1     14.553708                          Japanese  ...  Botswana Pula(P)   \n",
            "2     14.581404  Seafood, Asian, Filipino, Indian  ...  Botswana Pula(P)   \n",
            "3     14.585318                   Japanese, Sushi  ...  Botswana Pula(P)   \n",
            "4     14.584450                  Japanese, Korean  ...  Botswana Pula(P)   \n",
            "...         ...                               ...  ...               ...   \n",
            "9546  41.022793                           Turkish  ...  Turkish Lira(TL)   \n",
            "9547  41.009847   World Cuisine, Patisserie, Cafe  ...  Turkish Lira(TL)   \n",
            "9548  41.055817            Italian, World Cuisine  ...  Turkish Lira(TL)   \n",
            "9549  41.057979                   Restaurant Cafe  ...  Turkish Lira(TL)   \n",
            "9550  40.984776                              Cafe  ...  Turkish Lira(TL)   \n",
            "\n",
            "     has_table_booking has_online_delivery is_delivering_now  \\\n",
            "0                  Yes                  No                No   \n",
            "1                  Yes                  No                No   \n",
            "2                  Yes                  No                No   \n",
            "3                   No                  No                No   \n",
            "4                  Yes                  No                No   \n",
            "...                ...                 ...               ...   \n",
            "9546                No                  No                No   \n",
            "9547                No                  No                No   \n",
            "9548                No                  No                No   \n",
            "9549                No                  No                No   \n",
            "9550                No                  No                No   \n",
            "\n",
            "     switch_to_order_menu price_range  aggregate_rating  rating_color  \\\n",
            "0                      No           3               4.8    Dark Green   \n",
            "1                      No           3               4.5    Dark Green   \n",
            "2                      No           4               4.4         Green   \n",
            "3                      No           4               4.9    Dark Green   \n",
            "4                      No           4               4.8    Dark Green   \n",
            "...                   ...         ...               ...           ...   \n",
            "9546                   No           3               4.1         Green   \n",
            "9547                   No           3               4.2         Green   \n",
            "9548                   No           4               3.7        Yellow   \n",
            "9549                   No           4               4.0         Green   \n",
            "9550                   No           2               4.0         Green   \n",
            "\n",
            "     rating_text votes  \n",
            "0      Excellent   314  \n",
            "1      Excellent   591  \n",
            "2      Very Good   270  \n",
            "3      Excellent   365  \n",
            "4      Excellent   229  \n",
            "...          ...   ...  \n",
            "9546   Very Good   788  \n",
            "9547   Very Good  1034  \n",
            "9548        Good   661  \n",
            "9549   Very Good   901  \n",
            "9550   Very Good   591  \n",
            "\n",
            "[9542 rows x 21 columns]\n"
          ]
        }
      ]
    },
    {
      "cell_type": "code",
      "source": [
        "# Convert relevant columns to appropriate data types\n",
        "df['aggregate_rating'] = pd.to_numeric(df['aggregate_rating'], errors='coerce')\n",
        "df['price_range'] = pd.to_numeric(df['price_range'], errors='coerce')"
      ],
      "metadata": {
        "id": "I4X0GtI0FHBK"
      },
      "execution_count": 32,
      "outputs": []
    },
    {
      "cell_type": "code",
      "source": [
        "# Removing zero ratings to improve accuracy\n",
        "df = df[df['aggregate_rating'] > 0]"
      ],
      "metadata": {
        "id": "chRYlHeOFOOY"
      },
      "execution_count": 38,
      "outputs": []
    },
    {
      "cell_type": "code",
      "source": [],
      "metadata": {
        "id": "yELeZn4JFyre"
      },
      "execution_count": 38,
      "outputs": []
    }
  ]
}